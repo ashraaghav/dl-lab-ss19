{
  "nbformat": 4,
  "nbformat_minor": 0,
  "metadata": {
    "colab": {
      "name": "automl_exercise_v2.ipynb",
      "version": "0.3.2",
      "provenance": [],
      "collapsed_sections": [],
      "toc_visible": true
    },
    "language_info": {
      "codemirror_mode": {
        "name": "ipython",
        "version": 3
      },
      "file_extension": ".py",
      "mimetype": "text/x-python",
      "name": "python",
      "nbconvert_exporter": "python",
      "pygments_lexer": "ipython3",
      "version": "3.6.7"
    },
    "kernelspec": {
      "display_name": "labenv",
      "language": "python",
      "name": "labenv"
    },
    "accelerator": "GPU"
  },
  "cells": [
    {
      "cell_type": "code",
      "metadata": {
        "ExecuteTime": {
          "end_time": "2019-05-17T11:19:27.606755Z",
          "start_time": "2019-05-17T11:19:27.600274Z"
        },
        "colab_type": "code",
        "id": "6CPWOWwAhKh5",
        "colab": {}
      },
      "source": [
        "# !pip install ConfigSpace\n",
        "\n",
        "# !wget http://ml4aad.org/wp-content/uploads/2019/01/fcnet_tabular_benchmarks.tar.gz\n",
        "# !tar xf fcnet_tabular_benchmarks.tar.gz\n",
        "\n",
        "# !git clone https://github.com/automl/nas_benchmarks.git\n",
        "# !cd nas_benchmarks && python setup.py install\n",
        " \n",
        "# !git clone https://github.com/google-research/nasbench\n",
        "# !pip install --upgrade ./nasbench"
      ],
      "execution_count": 0,
      "outputs": []
    },
    {
      "cell_type": "markdown",
      "metadata": {
        "colab_type": "text",
        "id": "x5XB6kMIexzS"
      },
      "source": [
        "# AutoML Exercise"
      ]
    },
    {
      "cell_type": "code",
      "metadata": {
        "ExecuteTime": {
          "end_time": "2019-05-17T11:19:28.130041Z",
          "start_time": "2019-05-17T11:19:27.614185Z"
        },
        "colab_type": "code",
        "id": "xHDtAzEnexzT",
        "colab": {}
      },
      "source": [
        "import pickle\n",
        "import numpy as np\n",
        "import matplotlib.pyplot as plt\n",
        "from typing import List, Dict, Tuple\n",
        "import os"
      ],
      "execution_count": 0,
      "outputs": []
    },
    {
      "cell_type": "code",
      "metadata": {
        "ExecuteTime": {
          "end_time": "2019-05-17T11:19:28.134200Z",
          "start_time": "2019-05-17T11:19:28.131622Z"
        },
        "colab_type": "code",
        "id": "KN6u5-PnpLl8",
        "colab": {}
      },
      "source": [
        "# setting paths\n",
        "DATA_PATH = '/content/'\n",
        "os.chdir(DATA_PATH+'nas_benchmarks/')\n",
        "PATH_TO_FCNET_DATA = DATA_PATH+'fcnet_tabular_benchmarks/'"
      ],
      "execution_count": 0,
      "outputs": []
    },
    {
      "cell_type": "markdown",
      "metadata": {
        "colab_type": "text",
        "id": "4ueKlBA7exzY"
      },
      "source": [
        "## 1. Introduction"
      ]
    },
    {
      "cell_type": "markdown",
      "metadata": {
        "colab_type": "text",
        "id": "PbY5Sbftexza"
      },
      "source": [
        "In this exercise we will see how we can use Bayesian optimization [[Shahriari et al, 2016]](#4.-References) to optimize the hyperparameters of a feed-forward neural network (FC-Net).\n",
        "We will also learn how we can empiricially evaluate hyperparameter optimization methods in practice.\n",
        "\n",
        "Before you start, make sure you installed the following dependencies:\n",
        "- numpy (pip install numpy)\n",
        "- matplotlib (pip install matplotlib)\n",
        "- scipy (pip install scipy)\n",
        "- sklearn (pip install sklearn)\n",
        "- pytorch (pip install torch)\n",
        "- ConfigSpace (pip install ConfigSpace)\n",
        "- hpobench (see https://github.com/automl/nas_benchmarks for how to install it. Note that, you need to download the data first from [here](http://ml4aad.org/wp-content/uploads/2019/01/fcnet_tabular_benchmarks.tar.gz))"
      ]
    },
    {
      "cell_type": "markdown",
      "metadata": {
        "colab_type": "text",
        "id": "yhWcPJDpexzb"
      },
      "source": [
        "To avoid, that you waste too much time training the FC-Net, we will not optimize the actual benchmark but instead use a  tabular benchmark [[Ying et al, 2019]](#4.-References) [[Klein et al, 2019]](#4.-References). In previous work, we first discretized the hyperparameter configuration space of the FC-Net and then performed an evaluated all hyperparameter configurations in that space multiple time. \n",
        "The results are compiled into a database, such that we can simply look up the performance of a hyperparameter configuration instead of training it from scratch."
      ]
    },
    {
      "cell_type": "markdown",
      "metadata": {
        "colab_type": "text",
        "id": "jyYVbTp2exzc"
      },
      "source": [
        "The code below shows how we can load the benchmark together with the configuration space.\n",
        "Each hyperparameter configuration is encoded as a `Configuration` object and we can easily convert it to a `numpy` array or a `dictionary`. Note that, if we convert it to a numpy array, all values are normalized to be in $[0, 1]$.\n",
        "\n",
        "If we evaluate a hyperparameter configuration, we get the validation error and the time it had taken to train this configuration. When we generated this benchmark, we evaluated each hyperparameter configuration 4 times, and, for every table lookup, we pick one of these 4 trials uniformly at random. This simulates the typical noise that comes with hyperparameter optimization problems."
      ]
    },
    {
      "cell_type": "code",
      "metadata": {
        "ExecuteTime": {
          "end_time": "2019-05-17T11:19:31.244674Z",
          "start_time": "2019-05-17T11:19:28.135735Z"
        },
        "colab_type": "code",
        "id": "ivpY2GQjexzd",
        "outputId": "9ae6b784-d4b4-4bc8-fe76-d9ec3ea1db12",
        "colab": {
          "base_uri": "https://localhost:8080/",
          "height": 109
        }
      },
      "source": [
        "from tabular_benchmarks import FCNetProteinStructureBenchmark\n",
        "from tabular_benchmarks.fcnet_benchmark import FCNetBenchmark\n",
        "\n",
        "b = FCNetProteinStructureBenchmark(data_dir=PATH_TO_FCNET_DATA)\n",
        "cs = b.get_configuration_space()\n",
        "config = cs.sample_configuration()\n",
        "\n",
        "print(\"Numpy representation: \", config.get_array())\n",
        "print(\"Dict representation: \", config.get_dictionary())\n",
        "\n",
        "y, cost = b.objective_function(config)\n",
        "print(\"Validation error: %f\" % y)\n",
        "print(\"Runtime %f\" % cost)"
      ],
      "execution_count": 4,
      "outputs": [
        {
          "output_type": "stream",
          "text": [
            "Numpy representation:  [0. 1. 1. 1. 1. 1. 1. 3. 5.]\n",
            "Dict representation:  {'activation_fn_1': 'tanh', 'activation_fn_2': 'relu', 'batch_size': 16, 'dropout_1': 0.3, 'dropout_2': 0.3, 'init_lr': 0.001, 'lr_schedule': 'const', 'n_units_1': 128, 'n_units_2': 512}\n",
            "Validation error: 0.338135\n",
            "Runtime 400.404144\n"
          ],
          "name": "stdout"
        }
      ]
    },
    {
      "cell_type": "markdown",
      "metadata": {
        "colab_type": "text",
        "id": "5pSHifguexzg"
      },
      "source": [
        "## 2. Random Search"
      ]
    },
    {
      "cell_type": "markdown",
      "metadata": {
        "colab_type": "text",
        "id": "c6rIFGzxexzh"
      },
      "source": [
        "To get started, we will first implement random search [[Bergstra et al, 2012]](#4.-References), which is, besides its simplicity, usually a quite tough baseline to beat. If you develop a new method, you should always first compare against random search to see whether it actually works or if there is still a bug somewhere."
      ]
    },
    {
      "cell_type": "markdown",
      "metadata": {
        "colab_type": "text",
        "id": "W85E47jKexzi"
      },
      "source": [
        "The following function draws `n_iters` hyperparameter configurations uniformly at random from the configuration space and keeps track of the incumbent (i.e the best configuration we have seen so far) after each function evaluation. Since in this exercise we are also interested in comparing different hyperparameter optimization methods, we return the incumbent after each time steps together with its validation error. "
      ]
    },
    {
      "cell_type": "code",
      "metadata": {
        "ExecuteTime": {
          "end_time": "2019-05-17T11:25:07.063857Z",
          "start_time": "2019-05-17T11:25:06.819933Z"
        },
        "colab_type": "code",
        "id": "Yv4CxTcLexzj",
        "outputId": "fe39ee64-8fbb-48a5-c133-b2712bc20a2a",
        "colab": {
          "base_uri": "https://localhost:8080/",
          "height": 313
        }
      },
      "source": [
        "def random_search(benchmark: FCNetBenchmark, n_iters: int = 100):\n",
        "    \n",
        "    # get the configuration space\n",
        "    cs = benchmark.get_configuration_space()\n",
        "    \n",
        "    incumbent = None  # the best observed configuration, might need to be updated after each function evaluation\n",
        "    incumbent_val = np.inf\n",
        "    \n",
        "    # some bookkeeping\n",
        "    runtime = []  # cumuliatve cost of the time we spend for function evaluations\n",
        "    incumbent_trajectory = []  # the incumbent after each function evaluation\n",
        "    incumbent_trajectory_error = []  # the corresponding validation error\n",
        "    \n",
        "    # start the random search loop\n",
        "    for i in range(n_iters):\n",
        "        \n",
        "        #TODO: sample hyperparameter configuration\n",
        "        config = cs.sample_configuration()\n",
        "        #TODO: evaluate it\n",
        "        val, cost = b.objective_function(config)\n",
        "        #TODO: check whether we improved upon the current incumbent\n",
        "        # no incumbent to compare against or if current config is better than incumbent\n",
        "        if val < incumbent_val:\n",
        "            incumbent = config\n",
        "            incumbent_val = val\n",
        "        #TODO: updated incumbent trajectory\n",
        "        incumbent_trajectory.append(incumbent)\n",
        "        incumbent_trajectory_error.append(incumbent_val)\n",
        "        \n",
        "    return incumbent_trajectory, incumbent_trajectory_error\n",
        "\n",
        "\n",
        "traj = []\n",
        "for _ in range(30):\n",
        "    incumbent, t = random_search(benchmark=b, n_iters=50)\n",
        "    traj.append(t)\n",
        "\n",
        "mean = np.mean(traj, axis=0)\n",
        "sd = np.std(traj, axis=0)\n",
        "\n",
        "print('Average final cost: ', mean[-1])\n",
        "plt.step(np.arange(1, len(mean)+1), mean, where='post')\n",
        "plt.fill_between(np.arange(1, len(mean)+1), mean-sd, mean+sd, alpha=0.3)\n",
        "plt.ylabel(\"cost\")\n",
        "plt.grid(which='both', color='lightgray', linestyle='-', linewidth=0.5, alpha=0.5)\n",
        "plt.xlabel(\"number of function evaluations\")\n",
        "plt.title('cost over evaluations - Random search')\n",
        "plt.text(50, 0.8, 'Average final cost: %.4f' % mean[-1], horizontalalignment='right')\n",
        "plt.show()"
      ],
      "execution_count": 149,
      "outputs": [
        {
          "output_type": "stream",
          "text": [
            "Average final cost:  0.26254627\n"
          ],
          "name": "stdout"
        },
        {
          "output_type": "display_data",
          "data": {
            "image/png": "[encoded data removed]",
            "text/plain": [
              "<Figure size 432x288 with 1 Axes>"
            ]
          },
          "metadata": {
            "tags": []
          }
        }
      ]
    },
    {
      "cell_type": "markdown",
      "metadata": {
        "colab_type": "text",
        "id": "l2Mm79e7exzl"
      },
      "source": [
        "## 3. Bayesian optimization"
      ]
    },
    {
      "cell_type": "markdown",
      "metadata": {
        "colab_type": "text",
        "id": "6h8EqKJkexzm"
      },
      "source": [
        "Now we we will implement Bayesian optimization [[Snoek et al, 2012]](#4.-References).\n",
        "As we saw in the lecture, Bayesian optimization has two main ingredients: the probablistic model and the acquisition function. Since we have a discrete space here, we will first use random forest [[Breimann et al, 2001]](#4.-References) to model the objective function instead of Gaussian processes which are the usually used for continuous spaces. For the acquisition function we will use expected improvement which is probably the most popular one in the literature. Additionaly, we also need an optimizer to maximize the acquisition function, and, due to the discrete space, we cannot use standard optimizer, such as for example scipy.optimize. Instead, we will implemented a simple stochastic local search method."
      ]
    },
    {
      "cell_type": "markdown",
      "metadata": {
        "colab_type": "text",
        "id": "Rm42GRNFexzn"
      },
      "source": [
        "Let's start with the model. We will we write a wrapper around sklearn's random forest module, which returns for a given test point only the mean prediction. However, to compute the acquisition function, we also need the predictive variance. For that, we first loop over the trees to get the individual tree predictions and then compute the mean and variance of them."
      ]
    },
    {
      "cell_type": "code",
      "metadata": {
        "ExecuteTime": {
          "end_time": "2019-05-17T11:25:15.654585Z",
          "start_time": "2019-05-17T11:25:15.030625Z"
        },
        "colab_type": "code",
        "id": "lVw37_r9exzo",
        "colab": {}
      },
      "source": [
        "from sklearn.ensemble import RandomForestRegressor\n",
        "\n",
        "class RandomForest(object):\n",
        "    \n",
        "    def __init__(self, X: np.ndarray, y: np.ndarray) -> None:\n",
        "        # TODO: Instantiate and train a random forest on the provided data\n",
        "        self.rf = RandomForestRegressor(n_estimators=10)\n",
        "        self.rf.fit(X,y)\n",
        "        \n",
        "    def predict(self, X_test: np.ndarray) -> Tuple[np.ndarray, np.ndarray]:\n",
        "        #TODO: Loop over tree and compute the mean and variance over the tree predictions\n",
        "        tree_preds = np.asarray([tree.predict(X_test) for tree in self.rf.estimators_])\n",
        "        mean = np.mean(tree_preds, axis=0)\n",
        "        variance = np.var(tree_preds, axis=0)\n",
        "                \n",
        "        return mean, variance"
      ],
      "execution_count": 0,
      "outputs": []
    },
    {
      "cell_type": "markdown",
      "metadata": {
        "colab_type": "text",
        "id": "RWeNQiW2exzt"
      },
      "source": [
        "Next, we implement expected improvement. To compute the CDF and the PDF you can use the scipy functions: `scipy.norm.cdf` and `scipy.norm.pdf`."
      ]
    },
    {
      "cell_type": "code",
      "metadata": {
        "ExecuteTime": {
          "end_time": "2019-05-17T11:25:15.669290Z",
          "start_time": "2019-05-17T11:25:15.657240Z"
        },
        "colab_type": "code",
        "id": "lLCkBMmJexzu",
        "colab": {}
      },
      "source": [
        "from scipy.stats import norm\n",
        "\n",
        "def expected_improvement(candidates: np.ndarray, model, y_star: float) -> np.ndarray:\n",
        "    # TODO: compute the improvement for the candidate points over y_star in expectation based on the model's predictions\n",
        "    \n",
        "    # generate mean & variance predictions for all candidate points\n",
        "    mean, variance = model.predict(candidates)            \n",
        "    sd = np.sqrt(variance)\n",
        "    \n",
        "    # compute expected improvement\n",
        "    imp = (y_star - mean) / sd\n",
        "    ei = sd * (imp * norm.cdf(imp) + norm.pdf(imp))\n",
        "    return ei"
      ],
      "execution_count": 0,
      "outputs": []
    },
    {
      "cell_type": "markdown",
      "metadata": {
        "colab_type": "text",
        "id": "_rjGvm4gexzy"
      },
      "source": [
        "As already mentioned above, to optimize the acquisition function we will implement a simple local search method, which works as follows:\n",
        " 1. start from an initial point `x_init`\n",
        " 2. loop over all its one-step neighbours and compute the acquisition function values\n",
        " 3. jump to the neighbour with the highest acquisition function value\n",
        " 4. repeat step 2 and 3 until we either reach the maximum number of steps `n_steps` or we don't improve anymore\n",
        " 5. return best found configuration"
      ]
    },
    {
      "cell_type": "code",
      "metadata": {
        "ExecuteTime": {
          "end_time": "2019-05-17T11:25:15.720541Z",
          "start_time": "2019-05-17T11:25:15.672417Z"
        },
        "colab_type": "code",
        "id": "t9yoNEOnexzz",
        "colab": {}
      },
      "source": [
        "import ConfigSpace\n",
        "from ConfigSpace.util import get_one_exchange_neighbourhood  # see docstring: https://github.com/automl/ConfigSpace/blob/master/ConfigSpace/util.pyx for more details\n",
        "\n",
        "def local_search(acquisition_function: callable, model, y_star: float,\n",
        "                 x_init: ConfigSpace.Configuration, n_steps: int) -> ConfigSpace.Configuration:\n",
        "    current_best = x_init\n",
        "    current_best_value = acquisition_function(x_init.get_array()[None, :], model, y_star)\n",
        "    \n",
        "    for i in range(n_steps):\n",
        "        \n",
        "        # TODO: evaluate one-step neighbourhood (hint: use get_one_exchange_neighbourhood function)\n",
        "        # get neighbourhood\n",
        "        neighbourhood = get_one_exchange_neighbourhood(configuration=current_best, seed=0)\n",
        "        # evaluate neighbours\n",
        "        neighbour_values = {}\n",
        "        for neighbour in neighbourhood:\n",
        "            n_val = acquisition_function(neighbour.get_array()[None, :], model, y_star)\n",
        "            neighbour_values[neighbour] = n_val\n",
        "        \n",
        "        # get the best neighbour\n",
        "        best_neighbour = max(neighbour_values, key=neighbour_values.get)\n",
        "        best_neighbour_value = neighbour_values[best_neighbour]\n",
        "        \n",
        "        # TODO: check whether we improved upon the current best\n",
        "        if best_neighbour_value > current_best_value:\n",
        "            # TODO: jump to the next neighbour if we improved\n",
        "            current_best = best_neighbour\n",
        "        else:\n",
        "            # TODO: in case we converged, stop the local search\n",
        "            break\n",
        "        \n",
        "    return current_best"
      ],
      "execution_count": 0,
      "outputs": []
    },
    {
      "cell_type": "markdown",
      "metadata": {
        "colab_type": "text",
        "id": "2mmYTim0exz3"
      },
      "source": [
        "Now we have all our ingredients together, and we can finally implement the main Bayesian optimization loop.\n",
        "Before we can fit a model, we need to collect some data first. This is called the initial design.\n",
        "Various different initial design strategies exist, but here we will simply sample `n_init` random points.\n",
        "\n",
        "Note that, like for random search, we want to benchmark Bayesian optimization later and need the performance of the incumbent over time. Make sure that you keep track of the incumbent and check after *each function evaluation* whether we improved."
      ]
    },
    {
      "cell_type": "code",
      "metadata": {
        "ExecuteTime": {
          "end_time": "2019-05-17T13:06:01.243867Z",
          "start_time": "2019-05-17T13:06:01.226034Z"
        },
        "colab_type": "code",
        "id": "uJDgA9k3exz4",
        "colab": {}
      },
      "source": [
        "from functools import partial\n",
        "import warnings\n",
        "\n",
        "def bayesian_optimization(benchmark: FCNetBenchmark, model, acquisition_function=expected_improvement,\n",
        "                          optimizer=local_search, n_iters: int = 100, n_init: int = 5) -> None:\n",
        "    # book keeping\n",
        "    X = []\n",
        "    y = []\n",
        "    \n",
        "    incumbent_trajectory = []\n",
        "    incumbent_trajectory_error = []\n",
        "    incumbent_val = np.inf\n",
        "    incumbent = None\n",
        "    \n",
        "    # TODO: implement initial design by evaluating random configurations\n",
        "    for i in range(n_init):\n",
        "        # evaluate random configuration\n",
        "        config = cs.sample_configuration()\n",
        "        val, cost = benchmark.objective_function(config)\n",
        "        # record X & y\n",
        "        X.append(config.get_array())\n",
        "        y.append(val)\n",
        "        # compare incumbent with current config\n",
        "        if val < incumbent_val:\n",
        "            incumbent = config\n",
        "            incumbent_val = val\n",
        "        # record incumbent trajectory\n",
        "        incumbent_trajectory.append(incumbent)\n",
        "        incumbent_trajectory_error.append(incumbent_val)\n",
        "        \n",
        "    # start main BO loop\n",
        "    for i in range(n_init, n_iters):\n",
        "        # TODO: fit model\n",
        "        epm = model(X, y)\n",
        "        # TODO: optimize acquisition function to get candidate point\n",
        "        # get best mean seen so far\n",
        "        mean_samples, variance_samples = epm.predict(X)\n",
        "        y_star = np.max(mean_samples)\n",
        "        \n",
        "        # execute local search to get the next incumbent - starting from any configuration\n",
        "        challenger = local_search(acquisition_function=expected_improvement, model=epm, \n",
        "                                  y_star=y_star, x_init=cs.sample_configuration(), n_steps=5)\n",
        "        \n",
        "        # TODO: evaluate objective function at the candidate point\n",
        "        val, cost = benchmark.objective_function(challenger)\n",
        "        # compare incumbent with current config\n",
        "        if val < incumbent_val:\n",
        "            incumbent = challenger\n",
        "            incumbent_val = val\n",
        "        \n",
        "        # TODO: book keeping\n",
        "        # record X & y\n",
        "        X.append(challenger.get_array())\n",
        "        y.append(val)\n",
        "        # record incumbent trajectory\n",
        "        incumbent_trajectory.append(incumbent)\n",
        "        incumbent_trajectory_error.append(incumbent_val)\n",
        "        \n",
        "    return incumbent_trajectory, incumbent_trajectory_error\n"
      ],
      "execution_count": 0,
      "outputs": []
    },
    {
      "cell_type": "code",
      "metadata": {
        "ExecuteTime": {
          "end_time": "2019-05-17T11:25:18.648359Z",
          "start_time": "2019-05-17T11:25:15.836707Z"
        },
        "colab_type": "code",
        "id": "ia9q4Nj_exz7",
        "outputId": "952a3a4d-0e0c-461d-e95a-1ba306e5ac76",
        "scrolled": false,
        "colab": {
          "base_uri": "https://localhost:8080/",
          "height": 313
        }
      },
      "source": [
        "with warnings.catch_warnings():\n",
        "    warnings.filterwarnings('ignore')\n",
        "    \n",
        "    traj = []\n",
        "    for _ in range(30):\n",
        "        incumbent, t = bayesian_optimization(b, RandomForest, n_iters=50)\n",
        "        traj.append(t)\n",
        "\n",
        "mean = np.mean(traj, axis=0)\n",
        "sd = np.std(traj, axis=0)\n",
        "\n",
        "print('Average final cost: ', mean[-1])\n",
        "plt.step(np.arange(1, len(mean)+1), mean, where='post')\n",
        "plt.fill_between(np.arange(1, len(mean)+1), mean-sd, mean+sd, alpha=0.3)\n",
        "plt.ylabel(\"cost\")\n",
        "plt.grid(which='both', color='lightgray', linestyle='-', linewidth=0.5, alpha=0.5)\n",
        "plt.xlabel(\"number of function evaluations\")\n",
        "plt.title('cost over evaluations - BO-Random Forest')\n",
        "plt.text(50, 0.5, 'Average final cost: %.4f' % mean[-1], horizontalalignment='right')\n",
        "plt.show()"
      ],
      "execution_count": 141,
      "outputs": [
        {
          "output_type": "stream",
          "text": [
            "Average final cost:  0.23920494\n"
          ],
          "name": "stdout"
        },
        {
          "output_type": "display_data",
          "data": {
            "image/png": "[encoded data removed]",
            "text/plain": [
              "<Figure size 432x288 with 1 Axes>"
            ]
          },
          "metadata": {
            "tags": []
          }
        }
      ]
    },
    {
      "cell_type": "markdown",
      "metadata": {
        "colab_type": "text",
        "id": "opNgX91Dexz9"
      },
      "source": [
        "As an additional model we will try DNGO [[Snoek et al, 2015]](#4.-References), which first fits a neural networks with a linear output layer.\n",
        "After training, it chops off the output layer and uses Bayesian linear regression with the output of the last layer as basis functions.\n",
        "During inference time, it pass the test data through the first layers and then uses the precomputed Basis linear regression terms (m, K) to compute the mean and the variance. For more details have a look in Section 3 in the paper by [[Snoek et al, 2015]](#4.-References)."
      ]
    },
    {
      "cell_type": "code",
      "metadata": {
        "ExecuteTime": {
          "end_time": "2019-05-17T14:38:09.849819Z",
          "start_time": "2019-05-17T14:38:09.822956Z"
        },
        "colab_type": "code",
        "id": "Y-vjFc65exz-",
        "colab": {}
      },
      "source": [
        "import torch\n",
        "import torch.nn as nn\n",
        "import torch.optim as optim\n",
        "from torch.utils.data import DataLoader, TensorDataset\n",
        "\n",
        "class Net(nn.Module):\n",
        "    def __init__(self, n_inputs, n_units=50):\n",
        "        super(Net, self).__init__()\n",
        "        self.fc1 = nn.Linear(n_inputs, n_units)\n",
        "        self.fc2 = nn.Linear(n_units, n_units)\n",
        "        self.fc3 = nn.Linear(n_units, n_units)\n",
        "        self.out = nn.Linear(n_units, 1)\n",
        "\n",
        "    def forward(self, x):\n",
        "        x = torch.tanh(self.fc1(x))\n",
        "        x = torch.tanh(self.fc2(x))\n",
        "        x = torch.tanh(self.fc3(x))\n",
        "        return self.out(x)\n",
        "\n",
        "    def basis_funcs(self, x):\n",
        "        x = torch.tanh(self.fc1(x))\n",
        "        x = torch.tanh(self.fc2(x))\n",
        "        x = torch.tanh(self.fc3(x))\n",
        "        return x\n",
        "\n",
        "class DNGO(object):\n",
        "    \n",
        "    def __init__(self, X: np.ndarray, Y: np.ndarray, num_epochs: int = 200) -> None:\n",
        "        \n",
        "        self.device = torch.device('cpu')\n",
        "#         torch.cuda.empty_cache()\n",
        "        \n",
        "        X = np.asarray(X)\n",
        "        Y = np.asarray(Y)\n",
        "        # reshaping Y to have a similar shape as X i.e., 2D\n",
        "        Y = np.reshape(Y, Y.shape+(1,))\n",
        "        \n",
        "        # network hyperparameters\n",
        "        learning_rate = 1e-3\n",
        "        n_units = 50\n",
        "        \n",
        "        # TODO: create the neural network\n",
        "        self.network = Net(n_inputs=X.shape[-1], n_units=n_units)\n",
        "        self.network.to(self.device)\n",
        "        \n",
        "        # TODO: implement the training loop\n",
        "        # creating data loader\n",
        "        tensorX = torch.tensor(X).float().to(self.device)\n",
        "        tensorY = torch.tensor(Y).float().to(self.device)\n",
        "        \n",
        "        # initializing loss & optimizer\n",
        "        optimizer = optim.Adam(self.network.parameters(), lr=learning_rate)\n",
        "        loss_fn = nn.MSELoss()\n",
        "        # run training loop\n",
        "        for e in range(num_epochs):\n",
        "            y_hat = self.network(tensorX)   # forward\n",
        "            loss = loss_fn(tensorY, y_hat)  # computing loss\n",
        "            optimizer.zero_grad()\n",
        "            loss.backward()           # backward\n",
        "            optimizer.step()\n",
        "#             if (e+1) % 100 == 0:\n",
        "#                 print('Epoch [{}/{}], Loss at end of epoch: {:.6f} \\r'.format(e+1, num_epochs, loss.item()))\n",
        "            \n",
        "        # Hyperparameters for the Bayesian linear regression.\n",
        "        # Note: in the paper they sample \\alpha an \\beta from the marginal log-likelihood \n",
        "        # However, for simplicity, we keep them fix\n",
        "        self.alpha = 1e-2\n",
        "        self.alpha = torch.tensor(self.alpha).float().to(self.device)\n",
        "        self.beta = 100\n",
        "        self.beta = torch.tensor(self.beta).float().to(self.device)\n",
        "\n",
        "        # TODO: compute the Bayesian linear regression terms\n",
        "        PHI = self.network.basis_funcs(tensorX)#.to(self.device)\n",
        "        K = self.beta * torch.matmul(PHI.transpose(0,1), PHI) + \\\n",
        "            self.alpha * torch.eye(PHI.shape[1]).to(self.device)\n",
        "        self.invK = K.inverse()\n",
        "\n",
        "        y_til = tensorY\n",
        "        self.m = self.beta * torch.matmul(\n",
        "            torch.matmul(self.invK, PHI.transpose(0,1)),\n",
        "            y_til)\n",
        "\n",
        "    def predict(self, X: np.ndarray) -> np.ndarray:\n",
        "        \n",
        "        # TODO: extract the basis functions\n",
        "        tensorX = torch.tensor(X).float().to(self.device)\n",
        "        phi = self.network.basis_funcs(tensorX).transpose(0,1)\n",
        "\n",
        "        # TODO: compute the mean and the variance based on the Bayesian linear regression terms\n",
        "        mean = torch.matmul(self.m.transpose(0,1), phi)\n",
        "        mean = mean.cpu().flatten().detach().numpy()\n",
        "\n",
        "        variance = 1/self.beta + torch.matmul(\n",
        "            torch.matmul(phi.transpose(0,1), self.invK),\n",
        "            phi)\n",
        "        variance = variance.diag().cpu().detach().numpy()\n",
        "\n",
        "        return mean, variance"
      ],
      "execution_count": 0,
      "outputs": []
    },
    {
      "cell_type": "code",
      "metadata": {
        "ExecuteTime": {
          "end_time": "2019-05-17T14:39:16.248251Z",
          "start_time": "2019-05-17T14:38:11.075057Z"
        },
        "colab_type": "code",
        "id": "FYlLrupYDe4o",
        "outputId": "806d4804-a0d1-4c64-bb51-72c3f767c5aa",
        "colab": {
          "base_uri": "https://localhost:8080/",
          "height": 313
        }
      },
      "source": [
        "# %%time\n",
        "with warnings.catch_warnings():\n",
        "    warnings.filterwarnings('ignore')\n",
        "    \n",
        "    traj = []\n",
        "    for _ in range(30):\n",
        "        incumbent, t = bayesian_optimization(b, DNGO, n_iters=50)\n",
        "        traj.append(t)\n",
        "\n",
        "mean = np.mean(traj, axis=0)\n",
        "sd = np.std(traj, axis=0)\n",
        "\n",
        "print('Average final cost: ', mean[-1])\n",
        "plt.step(np.arange(1, len(mean)+1), mean, where='post')\n",
        "plt.fill_between(np.arange(1, len(mean)+1), mean-sd, mean+sd, alpha=0.3)\n",
        "plt.ylabel(\"cost\")\n",
        "plt.grid(which='both', color='lightgray', linestyle='-', linewidth=0.5, alpha=0.5)\n",
        "plt.xlabel(\"number of function evaluations\")\n",
        "plt.title('cost over evaluations - BO-DNGO')\n",
        "plt.text(50, 0.5, 'Average final cost: %.4f' % mean[-1], horizontalalignment='right')\n",
        "plt.show()"
      ],
      "execution_count": 215,
      "outputs": [
        {
          "output_type": "stream",
          "text": [
            "Average final cost:  0.24239478\n"
          ],
          "name": "stdout"
        },
        {
          "output_type": "display_data",
          "data": {
            "image/png": "[encoded data removed]",
            "text/plain": [
              "<Figure size 432x288 with 1 Axes>"
            ]
          },
          "metadata": {
            "tags": []
          }
        }
      ]
    },
    {
      "cell_type": "markdown",
      "metadata": {
        "colab_type": "text",
        "id": "CuMp6vNXex0B"
      },
      "source": [
        "A major part in developing new optimizers is the empirical comparison to existing baselines.\n",
        "Even though this is often cumbersome and frustrating, it is key to obtain a better understanding and hence to develop better methods.\n",
        "\n",
        "Since the most algorithms are to a certain degree randomized, we need to perform independent runs of each method with a different intialization in order to draw statistical significant conclusions.\n",
        "In practice, this is often problematic due to the high computational cost of the most hyperparameter optimization problems. With our tabular benchmarks however, we can easiliy afford multiple runs and are only limited by the optimizer's overhead."
      ]
    },
    {
      "cell_type": "markdown",
      "metadata": {
        "colab_type": "text",
        "id": "01hKHjIPex0C"
      },
      "source": [
        "In the code below we run each methods `30` times for `100` iterations and store the incumbent trajectories of each run. If we have parallel resources available, such as for instance with a compute cluster, it is good practice to parallelize everything as much as possible ot get the most efficient workload. However, since we compare only 3 methods for a moderate number of runs and iterations, we can afford it to run them sequentially."
      ]
    },
    {
      "cell_type": "code",
      "metadata": {
        "ExecuteTime": {
          "end_time": "2019-05-17T15:48:15.192221Z",
          "start_time": "2019-05-17T15:12:15.845917Z"
        },
        "colab_type": "code",
        "id": "BDjY6R2pex0D",
        "scrolled": true,
        "outputId": "955f134d-da7d-48d1-e535-7e7d98a43b1b",
        "colab": {
          "base_uri": "https://localhost:8080/",
          "height": 593
        }
      },
      "source": [
        "%%time\n",
        "\n",
        "n_runs = 30\n",
        "n_iters = 100\n",
        "rs_results = []\n",
        "bo_rf_results = []\n",
        "bo_dngo_results = []\n",
        "\n",
        "rs_incumbents = []\n",
        "bo_rf_incumbents = []\n",
        "bo_dngo_incumbents = []\n",
        "\n",
        "# TODO: evaluate each methods 'n_runs' times for 'n_iters' iterations\n",
        "for run in range(n_runs):\n",
        "    print('Executing run %d/%d...' % (run+1, n_runs))\n",
        "    \n",
        "    with warnings.catch_warnings():\n",
        "        warnings.filterwarnings('ignore')\n",
        "\n",
        "        # evaluate random search\n",
        "        rs_inc, rs_traj = random_search(benchmark=b, n_iters=n_iters)\n",
        "        # evaluate bayesian optimization\n",
        "        bo_rf_inc, bo_rf_traj = bayesian_optimization(b, RandomForest, n_iters=n_iters)\n",
        "    # evaluate bayesian optimization with DNGO\n",
        "    bo_dngo_inc, bo_dngo_traj = bayesian_optimization(b, DNGO, n_iters=n_iters)\n",
        "\n",
        "    # bookkeeping\n",
        "    rs_incumbents.append(rs_inc)\n",
        "    bo_rf_incumbents.append(bo_rf_inc)\n",
        "    bo_dngo_incumbents.append(bo_dngo_inc)\n",
        "    rs_results.append(rs_traj)\n",
        "    bo_rf_results.append(bo_rf_traj)\n",
        "    bo_dngo_results.append(bo_dngo_traj)\n"
      ],
      "execution_count": 277,
      "outputs": [
        {
          "output_type": "stream",
          "text": [
            "Executing run 1/30...\n",
            "Executing run 2/30...\n",
            "Executing run 3/30...\n",
            "Executing run 4/30...\n",
            "Executing run 5/30...\n",
            "Executing run 6/30...\n",
            "Executing run 7/30...\n",
            "Executing run 8/30...\n",
            "Executing run 9/30...\n",
            "Executing run 10/30...\n",
            "Executing run 11/30...\n",
            "Executing run 12/30...\n",
            "Executing run 13/30...\n",
            "Executing run 14/30...\n",
            "Executing run 15/30...\n",
            "Executing run 16/30...\n",
            "Executing run 17/30...\n",
            "Executing run 18/30...\n",
            "Executing run 19/30...\n",
            "Executing run 20/30...\n",
            "Executing run 21/30...\n",
            "Executing run 22/30...\n",
            "Executing run 23/30...\n",
            "Executing run 24/30...\n",
            "Executing run 25/30...\n",
            "Executing run 26/30...\n",
            "Executing run 27/30...\n",
            "Executing run 28/30...\n",
            "Executing run 29/30...\n",
            "Executing run 30/30...\n",
            "CPU times: user 14min 12s, sys: 43.4 s, total: 14min 55s\n",
            "Wall time: 15min 2s\n"
          ],
          "name": "stdout"
        }
      ]
    },
    {
      "cell_type": "code",
      "metadata": {
        "ExecuteTime": {
          "end_time": "2019-05-17T16:13:11.844178Z",
          "start_time": "2019-05-17T16:13:11.839890Z"
        },
        "colab_type": "code",
        "id": "Jy5bjTMcYOoi",
        "colab": {}
      },
      "source": [
        "rs_results = np.asarray(rs_results)\n",
        "bo_rf_results = np.asarray(bo_rf_results)\n",
        "bo_dngo_results = np.asarray(bo_dngo_results)"
      ],
      "execution_count": 0,
      "outputs": []
    },
    {
      "cell_type": "markdown",
      "metadata": {
        "colab_type": "text",
        "id": "PwqIREZdex0G"
      },
      "source": [
        "Another nice property of the tabular benchmarks is that we know the true global optimum (in terms of test error averaged over the four trials).\n",
        "To estimate an optimzer's quality, a popular metric is the regret: $|y_{incumbent} - y_{\\star}|$ which measures the difference between the performance $y_{\\star}$ of the global optimum and the current incumbent performance $y_{incumbent}$."
      ]
    },
    {
      "cell_type": "code",
      "metadata": {
        "ExecuteTime": {
          "end_time": "2019-05-17T12:07:55.141271Z",
          "start_time": "2019-05-17T12:07:07.871610Z"
        },
        "colab_type": "code",
        "id": "YBcNreJQex0H",
        "colab": {}
      },
      "source": [
        "_, y_star_valid, y_star_test = b.get_best_configuration()"
      ],
      "execution_count": 0,
      "outputs": []
    },
    {
      "cell_type": "markdown",
      "metadata": {
        "colab_type": "text",
        "id": "pYrBt1juex0J"
      },
      "source": [
        "To get a robust estimated of an optimzer's performance, we first compute the regret and then plot the incumbent trajectory across all independent runs of each optimzer"
      ]
    },
    {
      "cell_type": "code",
      "metadata": {
        "id": "j9Hxln9bc1QV",
        "colab_type": "code",
        "outputId": "c9cc3dcd-419a-4842-e178-a05382a39899",
        "colab": {
          "base_uri": "https://localhost:8080/",
          "height": 404
        }
      },
      "source": [
        "# calculating validation regret\n",
        "rs_sd = np.std(np.abs(rs_results - y_star_valid), axis=0)\n",
        "rs_mean = np.mean(np.abs(rs_results - y_star_valid), axis=0)\n",
        "bo_rf_sd = np.std(np.abs(bo_rf_results - y_star_valid), axis=0)\n",
        "bo_rf_mean = np.mean(np.abs(bo_rf_results - y_star_valid), axis=0)\n",
        "bo_dngo_sd = np.std(np.abs(bo_dngo_results - y_star_valid), axis=0)\n",
        "bo_dngo_mean = np.mean(np.abs(bo_dngo_results - y_star_valid), axis=0)\n",
        "\n",
        "# TODO: plot mean validation regret of each methods averaged over all runs\n",
        "\n",
        "plt.figure(figsize=(8,6))\n",
        "plt.grid(which='both', color='lightgray', linestyle='-', linewidth=0.5, alpha=0.5)\n",
        "plt.fill_between(np.arange(1, len(rs_mean)+1), rs_mean-rs_sd, rs_mean+rs_sd, \n",
        "                 alpha=0.2, color='green')\n",
        "plt.fill_between(np.arange(1, len(bo_rf_mean)+1), bo_rf_mean-bo_rf_sd, bo_rf_mean+bo_rf_sd, \n",
        "                 alpha=0.2, color='red')\n",
        "plt.fill_between(np.arange(1, len(bo_dngo_mean)+1), bo_dngo_mean-bo_dngo_sd, bo_dngo_mean+bo_dngo_sd, \n",
        "                 alpha=0.2, color='blue')\n",
        "plt.step(np.arange(1, len(rs_mean)+1), rs_mean, where='post', color='green', label='Random search')\n",
        "plt.step(np.arange(1, len(bo_rf_mean)+1), bo_rf_mean, where='post', color='red', label='BO-RF')\n",
        "plt.step(np.arange(1, len(bo_dngo_mean)+1), bo_dngo_mean, where='post', color='blue', label='BO-DNGO')\n",
        "plt.yscale(\"log\")\n",
        "plt.ylabel(\"validation regret (log)\")\n",
        "plt.xlabel(\"number of function evaluations\")\n",
        "plt.legend()\n",
        "plt.title('Validation regret over evaluations')\n",
        "plt.show()"
      ],
      "execution_count": 296,
      "outputs": [
        {
          "output_type": "display_data",
          "data": {
            "image/png": "[encoded data removed]",
            "text/plain": [
              "<Figure size 576x432 with 1 Axes>"
            ]
          },
          "metadata": {
            "tags": []
          }
        }
      ]
    },
    {
      "cell_type": "markdown",
      "metadata": {
        "colab_type": "text",
        "id": "u0T8CLjpex0N"
      },
      "source": [
        "In practice, we are eventually interested in the test performance rather than the validation performance. Thus, it is also good practice to perform an offline evaluation to compute the test performance of all incumbents.\n",
        "The tabular benchmarks allow us to do that efficiently and, as for the validation performance, we can again compute the regret to the true performance (y_star_test)."
      ]
    },
    {
      "cell_type": "code",
      "metadata": {
        "ExecuteTime": {
          "end_time": "2019-05-17T16:15:20.642463Z",
          "start_time": "2019-05-17T16:15:20.275442Z"
        },
        "colab_type": "code",
        "id": "DyYI8cAzex0O",
        "scrolled": false,
        "outputId": "c0d35ebd-e3de-4a12-d123-2a9f3bbf50dc",
        "colab": {
          "base_uri": "https://localhost:8080/",
          "height": 404
        }
      },
      "source": [
        "rs_sd = np.std(np.abs(rs_results - y_star_test), axis=0)\n",
        "rs_mean = np.mean(np.abs(rs_results - y_star_test), axis=0)\n",
        "bo_rf_sd = np.std(np.abs(bo_rf_results - y_star_test), axis=0)\n",
        "bo_rf_mean = np.mean(np.abs(bo_rf_results - y_star_test), axis=0)\n",
        "bo_dngo_sd = np.std(np.abs(bo_dngo_results - y_star_test), axis=0)\n",
        "bo_dngo_mean = np.mean(np.abs(bo_dngo_results - y_star_test), axis=0)\n",
        "\n",
        "# TODO: compute test performance for all methods and all runs and plot the average test regret\n",
        "\n",
        "plt.figure(figsize=(8, 6))\n",
        "plt.grid(which='both', color='lightgray', linestyle='-', linewidth=0.5, alpha=0.5)\n",
        "plt.fill_between(np.arange(1, len(rs_mean)+1), rs_mean-rs_sd, rs_mean+rs_sd, \n",
        "                 alpha=0.2, color='green')\n",
        "plt.fill_between(np.arange(1, len(bo_rf_mean)+1), bo_rf_mean-bo_rf_sd, bo_rf_mean+bo_rf_sd, \n",
        "                 alpha=0.2, color='red')\n",
        "plt.fill_between(np.arange(1, len(bo_dngo_mean)+1), bo_dngo_mean-bo_dngo_sd, bo_dngo_mean+bo_dngo_sd, \n",
        "                 alpha=0.2, color='blue')\n",
        "plt.step(np.arange(1, len(rs_mean)+1), rs_mean, where='post', color='green', label='Random search')\n",
        "plt.step(np.arange(1, len(bo_rf_mean)+1), bo_rf_mean, where='post', color='red', label='BO-RF')\n",
        "plt.step(np.arange(1, len(bo_dngo_mean)+1), bo_dngo_mean, where='post', color='blue', label='BO-DNGO')\n",
        "plt.yscale(\"log\")\n",
        "plt.ylabel(\"test regret (log)\")\n",
        "plt.xlabel(\"number of function evaluations\")\n",
        "plt.legend()\n",
        "plt.title('Test regret over evaluations')\n",
        "plt.show()"
      ],
      "execution_count": 297,
      "outputs": [
        {
          "output_type": "display_data",
          "data": {
            "image/png": "[encoded data removed]",
            "text/plain": [
              "<Figure size 576x432 with 1 Axes>"
            ]
          },
          "metadata": {
            "tags": []
          }
        }
      ]
    },
    {
      "cell_type": "markdown",
      "metadata": {
        "colab_type": "text",
        "id": "eGywkHRHex0R"
      },
      "source": [
        "## 5. References"
      ]
    },
    {
      "cell_type": "markdown",
      "metadata": {
        "colab_type": "text",
        "id": "44p83fXeex0T"
      },
      "source": [
        "* L. Breimann (2001) *Random Forests*  Machine Learning\n",
        "* J. Bergstra and Y. Bengio (2012) *Random Search for Hyper-Parameter Optimization* Journal of Machine Learning Research \n",
        "\n",
        "* B. Shahriari and K. Swersky and Z. Wang and R. Adams and N. de Freitas (2016), *Taking the Human Out of the Loop: {A} Review of {B}ayesian Optimization* Proceedings of the {IEEE}\n",
        "  \n",
        "* J. Snoek and H. Larochelle and R. P. Adams (2012) *Practical {B}ayesian Optimization of Machine Learning Algorithms* Proceedings of the 25th International Conference on Advances in Neural Information Processing Systems (NIPS'12)\n",
        "\n",
        "* J. Snoek and O. Rippel and K. Swersky and R. Kiros and N. Satish and N. Sundaram and M. Patwary and Prabhat and R. Adams (2015) *Scalable {B}ayesian Optimization Using Deep Neural Networks* Proceedings of the 32nd International Conference on Machine Learning (ICML'15)\n",
        "        \n",
        "* C. Ying and A. Klein and E. Real and E. Christiansen and K. Murphy and F. Hutter (2019) *NAS-Bench-101: Towards Reproducible Neural Architecture Search* arXiv:1902.09635\n",
        "\n",
        "* A. Klein and F. Hutter (2019) *Tabular Benchmarks for Joint Architecture and Hyperparameter Optimization* arXiv"
      ]
    }
  ]
}